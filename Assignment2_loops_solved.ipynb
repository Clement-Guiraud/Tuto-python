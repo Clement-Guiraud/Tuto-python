{
 "cells": [
  {
   "cell_type": "code",
   "execution_count": null,
   "metadata": {},
   "outputs": [],
   "source": []
  },
  {
   "cell_type": "markdown",
   "metadata": {
    "nbgrader": {
     "grade": false,
     "grade_id": "cell-526e2491f4218481",
     "locked": true,
     "schema_version": 3,
     "solution": false,
     "task": false
    }
   },
   "source": [
    "You should have read all the readings and content from the lectures given on Brightspace.\n"
   ]
  },
  {
   "cell_type": "markdown",
   "metadata": {
    "nbgrader": {
     "grade": false,
     "grade_id": "cell-88fe3dd90369d8fb",
     "locked": true,
     "schema_version": 3,
     "solution": false,
     "task": false
    }
   },
   "source": [
    "In order to make it easy to grade your works, here are the notes you should read and follow carrefully.  We will take off points for not following them. We will grade based on assuming you have read and understood them.\n",
    "    \n",
    "1. **Using the Notebook to Show Your Work**: You must learn to write code in the notebook... It is a core tool for data science and will make it easier to develop and document your work if you become good at using it. Writing your code in another tool and pasting it into the notebook will probably not work well: Some of you forgot to include code elsewhere, or the spacing became messed up, or it didn't run as copied.  You must be sure your code cells execute because we will test them.  So learn how to run code in the notebook cells to double check your work.\n",
    "2. **Read Directions Carefully**:  The instructions for your code are very important. If you don't follow the requirements, your application won't do as requested. Making it work correctly is part of learning to program.  If we worded something unclearly, send an e-mail to your professor."
   ]
  },
  {
   "cell_type": "markdown",
   "metadata": {},
   "source": [
    "---"
   ]
  },
  {
   "cell_type": "markdown",
   "metadata": {
    "nbgrader": {
     "grade": false,
     "grade_id": "cell-8bc6d239780f3dc6",
     "locked": true,
     "schema_version": 3,
     "solution": false,
     "task": false
    }
   },
   "source": [
    "# Homework Questions:"
   ]
  },
  {
   "cell_type": "markdown",
   "metadata": {
    "nbgrader": {
     "grade": false,
     "grade_id": "cell-e6728755ea4b1de5",
     "locked": true,
     "schema_version": 3,
     "solution": false,
     "task": false
    }
   },
   "source": [
    "## Working on loops and file interactions"
   ]
  },
  {
   "cell_type": "markdown",
   "metadata": {
    "nbgrader": {
     "grade": false,
     "grade_id": "cell-9f652ae0a123834c",
     "locked": true,
     "schema_version": 3,
     "solution": false,
     "task": false
    }
   },
   "source": [
    "We are seeking to develop a program that searches for one specific character in a given input, and counts how many times the character appears in this input. \n",
    "\n",
    "**Be careful here!\n",
    "The text input and the character we are looking for are given as arguments of this function. \n",
    "So do not define any input(prompt) element.\n",
    "Just give inputs as it is done in the test example below!**\n",
    "\n",
    "To count how many times the character appears, you will have to define a count variable and add 1 each time the character is found. \n",
    "\n",
    "Give 2 different outputs for the user: \n",
    "- One concerns when the character could not be found into the input given\n",
    "And you should use an output message like: \n",
    "        XX could not be found in 'gnrzbruo' \n",
    "\n",
    "- The other one gives the counting of the character\n",
    "and you should use an output message like: \n",
    "        XX Has been found {nb} times in {input}\n",
    "\n",
    "\n",
    "The program should only return the count. \n",
    "So 0 if you couldn't find the character in the input.\n",
    "\n",
    "Do not forgot to use tests to see if your program runs well.\n",
    "The print output does not count into the test processing system.\n"
   ]
  },
  {
   "cell_type": "code",
   "execution_count": 13,
   "metadata": {},
   "outputs": [
    {
     "data": {
      "text/plain": [
       "2"
      ]
     },
     "execution_count": 13,
     "metadata": {},
     "output_type": "execute_result"
    }
   ],
   "source": [
    "#Method find / index \n",
    "text = 'I am in class today'\n",
    "text.find('a')\n"
   ]
  },
  {
   "cell_type": "code",
   "execution_count": 1,
   "metadata": {
    "nbgrader": {
     "grade": false,
     "grade_id": "search",
     "locked": false,
     "schema_version": 3,
     "solution": true,
     "task": false
    }
   },
   "outputs": [],
   "source": [
    "def search(text,character):\n",
    "    '''This function searches for one character, \n",
    "    defined as 2nd argument, \n",
    "    in a given text / string of characters, \n",
    "    defined as 1 st argument, \n",
    "    and counts how many times it appears'''\n",
    "    \n",
    "    # The 1st argument text here represents \n",
    "    #     the input in which you are looking for \n",
    "    # The 2nd argument character represents \n",
    "    #     the character you are looking for\n",
    "        \n",
    "    #BEGIN SOLUTION\n",
    "    err_msg = \"Error: Your input is not transformable \\\n",
    "            into a string of characters\"\n",
    "    try: \n",
    "        text = str(text)\n",
    "        character = str(character)\n",
    "    except:\n",
    "        print(err_msg)\n",
    "        return None\n",
    "        # In fact, this never happens with numbers (floats & integers)\n",
    "        # It could happen with some specific objects like lists, dictionaries, ... \n",
    "    \n",
    "    count = 0\n",
    "    if character in text:\n",
    "        for i in text:\n",
    "            if i.lower() == character.lower():\n",
    "                count += 1 #  count = count + 1\n",
    "    else: \n",
    "        print(character+\" could not be found in '{input}'\".format(input=text))\n",
    "        return count\n",
    "\n",
    "    print(character+\" Has been found {nb} times in '{input}'\".format(nb=count,input=text))\n",
    "    return count\n",
    "    #END SOLUTION\n",
    "\n",
    "    "
   ]
  },
  {
   "cell_type": "code",
   "execution_count": 2,
   "metadata": {},
   "outputs": [
    {
     "name": "stdout",
     "output_type": "stream",
     "text": [
      "e Has been found 7 times in 'Bonjour à tous, aujourd'hui nous donnons le cours en français, parce que tout le monde parle français. Ouuuaaiiiis!'\n"
     ]
    },
    {
     "data": {
      "text/plain": [
       "7"
      ]
     },
     "execution_count": 2,
     "metadata": {},
     "output_type": "execute_result"
    }
   ],
   "source": [
    "text= \"Bonjour à tous, aujourd'hui nous donnons le cours en français, parce que tout le monde parle français. Ouuuaaiiiis!\"\n",
    "character = \"e\"\n",
    "\n",
    "search(text,character)"
   ]
  },
  {
   "cell_type": "code",
   "execution_count": 15,
   "metadata": {
    "nbgrader": {
     "grade": true,
     "grade_id": "cell-824190667948a132",
     "locked": true,
     "points": 2,
     "schema_version": 3,
     "solution": false,
     "task": false
    }
   },
   "outputs": [
    {
     "name": "stdout",
     "output_type": "stream",
     "text": [
      "3 Has been found 2 times in 'I've got 3 cats at home. And all 3 of them are lazy.'\n",
      "a Has been found 6 times in 'I've got 3 cats at home. And all 3 of them are lazy.'\n"
     ]
    }
   ],
   "source": [
    "import mock\n",
    "from io import StringIO\n",
    "import sys\n",
    "\n",
    "text = \"I've got 3 cats at home. And all 3 of them are lazy.\"\n",
    "character = 3\n",
    "assert search(text,character) == 2\n",
    "assert search(text,'a') == 6\n"
   ]
  },
  {
   "cell_type": "code",
   "execution_count": 16,
   "metadata": {
    "nbgrader": {
     "grade": true,
     "grade_id": "cell-42b99048c03d782a",
     "locked": true,
     "points": 2,
     "schema_version": 3,
     "solution": false,
     "task": false
    }
   },
   "outputs": [
    {
     "name": "stdout",
     "output_type": "stream",
     "text": [
      "2 could not be found in 'I've got 3 cats at home. And all 3 of them are lazy.'\n"
     ]
    }
   ],
   "source": [
    "import mock\n",
    "from io import StringIO\n",
    "import sys\n",
    "\n",
    "text = \"I've got 3 cats at home. And all 3 of them are lazy.\"\n",
    "character = 2\n",
    "assert search(text,character) == 0\n"
   ]
  },
  {
   "cell_type": "markdown",
   "metadata": {
    "nbgrader": {
     "grade": false,
     "grade_id": "cell-51b1dd00372d38ed",
     "locked": true,
     "schema_version": 3,
     "solution": false,
     "task": false
    }
   },
   "source": [
    "---"
   ]
  },
  {
   "cell_type": "markdown",
   "metadata": {
    "nbgrader": {
     "grade": false,
     "grade_id": "cell-b6e7ec9c00cef757",
     "locked": true,
     "schema_version": 3,
     "solution": false,
     "task": false
    }
   },
   "source": [
    "\n",
    "## Exercises with strings and loops\n",
    "\n",
    "Create a function here that takes 2 arguments (text & character).\n",
    "The 1st one represents a text input given by the user.\n",
    "The 2nd argument represents one character (only one letter here) to be found in the text.\n",
    "\n",
    "This function takes 2 arguments. The 1st argument is a text and the 2nd argument is a character we look for inside the text argument. The function calculates some statistics (counting the number of words, the average length of words used and counts how many times the argument character appears)\n",
    "    \n",
    "If the input is not a text,\n",
    "print a \"Warning\" message\n",
    "and transform the input as string of characters.\n",
    "This part is already coded here \n",
    "But use the flag after to change the output prints.\n",
    "\n",
    "If the input is a text, \n",
    "Print out \n",
    "- The number of words \n",
    "- The average length of the words \n",
    "- How many times the character input appears in text.\n",
    "\n",
    "**The function should return the 3 results from calculations.**\n",
    "\n",
    "If the text is empty, return None and print out an error message.\n"
   ]
  },
  {
   "cell_type": "markdown",
   "metadata": {
    "nbgrader": {
     "grade": false,
     "grade_id": "cell-3c4de87e9323383e",
     "locked": true,
     "schema_version": 3,
     "solution": false,
     "task": false
    }
   },
   "source": [
    "You can use here the split() method applied to text. \n",
    "\n",
    "This method will split your text into multiple pieces. The delimiter should be defined as argument of the split() function. \n",
    "See an example below\n",
    "\n",
    "For more details: help(str.split)\n"
   ]
  },
  {
   "cell_type": "code",
   "execution_count": 17,
   "metadata": {},
   "outputs": [
    {
     "name": "stdout",
     "output_type": "stream",
     "text": [
      "Help on method_descriptor:\n",
      "\n",
      "split(self, /, sep=None, maxsplit=-1)\n",
      "    Return a list of the words in the string, using sep as the delimiter string.\n",
      "    \n",
      "    sep\n",
      "      The delimiter according which to split the string.\n",
      "      None (the default value) means split according to any whitespace,\n",
      "      and discard empty strings from the result.\n",
      "    maxsplit\n",
      "      Maximum number of splits to do.\n",
      "      -1 (the default value) means no limit.\n",
      "\n"
     ]
    }
   ],
   "source": [
    "help(str.split)"
   ]
  },
  {
   "cell_type": "code",
   "execution_count": 4,
   "metadata": {},
   "outputs": [
    {
     "data": {
      "text/plain": [
       "['Th', 's ', 's a text']"
      ]
     },
     "execution_count": 4,
     "metadata": {},
     "output_type": "execute_result"
    }
   ],
   "source": [
    "text = 'This is a text'\n",
    "text.split(\"i\")\n"
   ]
  },
  {
   "cell_type": "code",
   "execution_count": 11,
   "metadata": {
    "nbgrader": {
     "grade": false,
     "grade_id": "statistics",
     "locked": false,
     "schema_version": 3,
     "solution": true,
     "task": false
    }
   },
   "outputs": [],
   "source": [
    "def statistics(text,character):\n",
    "    '''This function takes 2 arguments. The 1st argument is a text and the 2nd argument is a character \n",
    "    we look for inside the text argument. The function calculates some statistics \n",
    "    (counting the number of words, the average length of words used\n",
    "    and counts how many times the argument character appears)'''\n",
    "    \n",
    "    warning_msg = \"Warning: Your input is not a text. So we transformed it into one\"\n",
    "    \n",
    "    # Giving here the warning message if the arguments are \n",
    "    if type(text)!= str and type(character)!=str:\n",
    "        text = str(text)\n",
    "        character = str(character)\n",
    "        print(warning_msg)\n",
    "\n",
    "    # Here we split the input into multiple parts when separated by a space\n",
    "    text_list = text.split(\" \")\n",
    "    print(text_list)\n",
    "    \n",
    "    #BEGIN SOLUTION\n",
    "    count_words = 0\n",
    "    count_character =0\n",
    "    sumlen = 0\n",
    "    avglen = 0\n",
    "    \n",
    "    for word in text_list:\n",
    "        count_words+=1   # count_words=count_words+1\n",
    "\n",
    "        sumlen += len(word) # Here you can delete the punctuation not to count it if you want\n",
    "        if character in word :\n",
    "            #\n",
    "            #####\n",
    "            # Be sure here to count not only a character but a string \n",
    "            ####\n",
    "            #\n",
    "            count_character +=1\n",
    "    if text.strip() == '':\n",
    "        print('Error: Your input is empty')\n",
    "        return None\n",
    "    else: \n",
    "        avglen = sumlen / count_words\n",
    "        print(\"The text counts {nbwords} words.\".format(nbwords=count_words))\n",
    "        print(\"The average length of the words is \"+str(avglen)+\" letters\")\n",
    "        print(\"{char} appears {countc} times in your input\".format(char=character,countc=count_character))\n",
    "        return count_words, avglen, count_character\n",
    "    #END SOLUTION \n",
    "\n"
   ]
  },
  {
   "cell_type": "code",
   "execution_count": 9,
   "metadata": {
    "nbgrader": {
     "grade": true,
     "grade_id": "cell-7a620da29566e996",
     "locked": true,
     "points": 2,
     "schema_version": 3,
     "solution": false,
     "task": false
    }
   },
   "outputs": [
    {
     "name": "stdout",
     "output_type": "stream",
     "text": [
      "['I', 'see', 'trees', 'of', 'green', 'Red', 'roses', 'too', 'I', 'see', 'them', 'bloom', 'For', 'me', 'and', 'you', 'And', 'I', 'think', 'to', 'myself', 'What', 'a', 'wonderful', 'world', 'I', 'see', 'skies', 'of', 'blue', 'And', 'clouds', 'of', 'white', 'The', 'bright', 'blessed', 'day', 'The', 'dark', 'sacred', 'night', 'And', 'I', 'think', 'to', 'myself', 'What', 'a', 'wonderful', 'world', 'The', 'colors', 'of', 'the', 'rainbow', 'So', 'pretty', 'in', 'the', 'sky', 'Are', 'also', 'on', 'the', 'faces', 'Of', 'people', 'going', 'by', 'I', 'see', 'friends', 'shaking', 'hands', 'Saying,', 'How', 'do', 'you', 'do?', 'They', 'are', 'really', 'saying', 'I', 'love', 'you', 'I', 'hear', 'babies', 'cry', 'I', 'watch', 'them', 'grow', 'They', 'will', 'learn', 'much', 'more', 'Than', 'I', 'will', 'never', 'know', 'And', 'I', 'think', 'to', 'myself', 'What', 'a', 'wonderful', 'world', 'Yes,', 'I', 'think', 'to', 'myself', 'What', 'a', 'wonderful', 'world', 'Oh', 'yeah']\n",
      "Error: Your input is empty\n"
     ]
    }
   ],
   "source": [
    "lyrics = \"I see trees of green Red roses too I see them bloom For me and you And I think to myself\\\n",
    " What a wonderful world I see skies of blue And clouds of white The bright blessed day\\\n",
    " The dark sacred night And I think to myself What a wonderful world The colors of the rainbow\\\n",
    " So pretty in the sky Are also on the faces Of people going by I see friends shaking hands\\\n",
    " Saying, How do you do? They are really saying I love you I hear babies cry\\\n",
    " I watch them grow They will learn much more Than I will never know And I think to myself\\\n",
    " What a wonderful world Yes, I think to myself What a wonderful world Oh yeah\"\n",
    "\n",
    "statistics(lyrics, 'is')\n"
   ]
  },
  {
   "cell_type": "code",
   "execution_count": 10,
   "metadata": {
    "nbgrader": {
     "grade": true,
     "grade_id": "cell-752bdae33ca2530a",
     "locked": true,
     "points": 2,
     "schema_version": 3,
     "solution": false,
     "task": false
    }
   },
   "outputs": [
    {
     "ename": "AssertionError",
     "evalue": "",
     "output_type": "error",
     "traceback": [
      "\u001b[0;31m---------------------------------------------------------------------------\u001b[0m",
      "\u001b[0;31mAssertionError\u001b[0m                            Traceback (most recent call last)",
      "\u001b[0;32m/tmp/ipykernel_586944/123514496.py\u001b[0m in \u001b[0;36m<module>\u001b[0;34m\u001b[0m\n\u001b[1;32m      5\u001b[0m \u001b[0;34m\u001b[0m\u001b[0m\n\u001b[1;32m      6\u001b[0m \u001b[0;32mwith\u001b[0m \u001b[0mmock\u001b[0m\u001b[0;34m.\u001b[0m\u001b[0mpatch\u001b[0m\u001b[0;34m(\u001b[0m\u001b[0;34m'sys.stdout'\u001b[0m\u001b[0;34m,\u001b[0m \u001b[0mnew_callable\u001b[0m\u001b[0;34m=\u001b[0m\u001b[0mStringIO\u001b[0m\u001b[0;34m)\u001b[0m\u001b[0;34m:\u001b[0m\u001b[0;34m\u001b[0m\u001b[0;34m\u001b[0m\u001b[0m\n\u001b[0;32m----> 7\u001b[0;31m     \u001b[0;32massert\u001b[0m \u001b[0mstatistics\u001b[0m\u001b[0;34m(\u001b[0m\u001b[0;34m' '\u001b[0m\u001b[0;34m,\u001b[0m\u001b[0;34m'i'\u001b[0m\u001b[0;34m)\u001b[0m \u001b[0;32mis\u001b[0m \u001b[0;32mNone\u001b[0m\u001b[0;34m\u001b[0m\u001b[0;34m\u001b[0m\u001b[0m\n\u001b[0m",
      "\u001b[0;31mAssertionError\u001b[0m: "
     ]
    }
   ],
   "source": [
    "# Testing\n",
    "import mock\n",
    "from io import StringIO\n",
    "import sys\n",
    "\n",
    "with mock.patch('sys.stdout', new_callable=StringIO):\n",
    "    assert statistics(' ','i') is None\n"
   ]
  },
  {
   "cell_type": "code",
   "execution_count": 7,
   "metadata": {
    "nbgrader": {
     "grade": true,
     "grade_id": "cell-a690ce56ba34b23a",
     "locked": true,
     "points": 2,
     "schema_version": 3,
     "solution": false,
     "task": false
    }
   },
   "outputs": [],
   "source": [
    "# Testing\n",
    "import mock\n",
    "from io import StringIO\n",
    "import sys\n",
    "\n",
    "lyrics = \"I see trees of green Red roses too I see them bloom For me and you And I think to myself\\\n",
    " What a wonderful world I see skies of blue And clouds of white The bright blessed day\\\n",
    " The dark sacred night And I think to myself What a wonderful world The colors of the rainbow\\\n",
    " So pretty in the sky Are also on the faces Of people going by I see friends shaking hands\\\n",
    " Saying, How do you do? They are really saying I love you I hear babies cry\\\n",
    " I watch them grow They will learn much more Than I will never know And I think to myself\\\n",
    " What a wonderful world Yes, I think to myself What a wonderful world Oh yeah\"\n",
    "\n",
    "with mock.patch('sys.stdout', new_callable=StringIO):\n",
    "    assert statistics(lyrics,'is') == (125,3.792,0)\n"
   ]
  },
  {
   "cell_type": "markdown",
   "metadata": {
    "nbgrader": {
     "grade": false,
     "grade_id": "cell-88dd60d4844665f1",
     "locked": true,
     "schema_version": 3,
     "solution": false,
     "task": false
    }
   },
   "source": [
    "---"
   ]
  },
  {
   "cell_type": "markdown",
   "metadata": {
    "nbgrader": {
     "grade": false,
     "grade_id": "cell-01986d3547cfd6b8",
     "locked": true,
     "schema_version": 3,
     "solution": false,
     "task": false
    }
   },
   "source": [
    "\n",
    "## Exercises with \"Files\"\n",
    "\n",
    "This is a big important chapter.  All data files have to be loaded and parsed into Python before you can do analysis on them.  And you can also write out your results in files after doing this chapter.\n",
    "\n",
    "\n",
    "**Question** Save the file mbox-short.txt from the chapter to your computer. Be sure you understand where it is located so you can read it in. If it is in the same directory as this notebook, you don't need to give a path to the file.  A path is the pwd info + filename from the Unix practice you did in class.  For instance:\n",
    "\n",
    "```\n",
    "myfile = \"/Users/loeillet/Documents/MK34P/mbox-short.txt\"\n",
    "```\n",
    "\n",
    "\n",
    "Create a function that reads in the file and looks for lines with \"http\" and \"@\" in them. (Hint: \"http\" can appear inside a longer string like \"https\".) Keep a count of how many URLs and how many email addresses appear. Print out the first URL in each line, but nothing else in that line. This means you need to isolate the URL from the rest of the line (you can use space as the delimiter.)\n",
    "\n",
    "At the end, return:\n",
    "- the total count of lines containing http, \n",
    "- the total count of lines containing @ in the file.\n",
    "\n",
    "(You can use \"return variable1, variable2\" to return 2 variables from a function. \n",
    "It could be done with more the number of variables you want of course.)\n",
    "\n",
    "** Note: the preferred way to do the file open and read is like this, not as shown in the book.  Please use this model in your code: **\n",
    "\n",
    "\n"
   ]
  },
  {
   "cell_type": "code",
   "execution_count": 13,
   "metadata": {
    "nbgrader": {
     "grade": false,
     "grade_id": "cell-d06d273c3d9c8eea",
     "locked": true,
     "schema_version": 3,
     "solution": false,
     "task": false
    }
   },
   "outputs": [],
   "source": [
    "## Example of how to read in the file and do things with it:\n",
    "\n",
    "# you need to give the full path to the file you are opening in the string, or a path relative to where your notebook\n",
    "# A relative path means a folder + filename inside the current folder where the notebook is running.\n",
    "# Here mine is in a folder called text-files.\n",
    "file= 'mbox-short.txt'\n",
    "with open(file, 'r') as handle:\n",
    "    for line in handle:\n",
    "        # do stuff here with each line.  Try uncommenting the print and removing the 'continue.  \n",
    "        # Think about removing the \\n at the end of the line.\n",
    "        # print(line)\n",
    "        continue\n"
   ]
  },
  {
   "cell_type": "code",
   "execution_count": 21,
   "metadata": {
    "nbgrader": {
     "grade": false,
     "grade_id": "count_urls_emails",
     "locked": false,
     "schema_version": 3,
     "solution": true,
     "task": false
    }
   },
   "outputs": [],
   "source": [
    "# Other version \n",
    "def count_urls_emails(filename):\n",
    "    \"\"\"\n",
    "    Pass in the full path to the file you are searching for URLs and Emails.\n",
    "    Return the total of lines with http and @ found.\n",
    "    \"\"\"\n",
    "\n",
    "    #BEGIN SOLUTION\n",
    "    total_url_lines = 0\n",
    "    total_email_lines = 0\n",
    "    with open(filename, 'r') as handle:\n",
    "        for line in handle:\n",
    "            if 'http' in line: \n",
    "                total_url_lines +=1\n",
    "                index = line.find('http') # This only to isolate the first url in the line\n",
    "                space_index = line[index:].find(\" \")\n",
    "                print(line[index:index+space_index])\n",
    "\n",
    "            \n",
    "            if '@' in line: \n",
    "                total_email_lines +=1        \n",
    "            #total_email_lines += '@' in line # List-comprehension way to code\n",
    "            \n",
    "    return total_url_lines, total_email_lines\n",
    "    #END SOLUTION"
   ]
  },
  {
   "cell_type": "code",
   "execution_count": 22,
   "metadata": {
    "nbgrader": {
     "grade": true,
     "grade_id": "cell-a5c2aabad070d2ef",
     "locked": true,
     "points": 2,
     "schema_version": 3,
     "solution": false,
     "task": false
    }
   },
   "outputs": [
    {
     "name": "stdout",
     "output_type": "stream",
     "text": [
      "http://source.sakaiproject.org/viewsvn/?view=rev&rev=39772\n",
      "\n",
      "https://collab.sakaiproject.org/portal) from the Source site.\n",
      "\n",
      "http://source.sakaiproject.org/viewsvn/?view=rev&rev=39771\n",
      "\n",
      "https://collab.sakaiproject.org/portal) from the Source site.\n",
      "\n",
      "http://source.sakaiproject.org/viewsvn/?view=rev&rev=39770\n",
      "\n",
      "https://source.sakaiproject.org/svn/site-manage/trunk/\n",
      "\n",
      "https://collab.sakaiproject.org/portal) from the Source site.\n",
      "\n",
      "http://source.sakaiproject.org/viewsvn/?view=rev&rev=39769\n",
      "\n",
      "https://collab.sakaiproject.org/portal) from the Source site.\n",
      "\n",
      "http://source.sakaiproject.org/viewsvn/?view=rev&rev=39766\n",
      "\n",
      "https://collab.sakaiproject.org/portal) from the Source site.\n",
      "\n",
      "http://source.sakaiproject.org/viewsvn/?view=rev&rev=39765\n",
      "\n",
      "https://collab.sakaiproject.org/portal) from the Source site.\n",
      "\n",
      "http://source.sakaiproject.org/viewsvn/?view=rev&rev=39764\n",
      "\n",
      "https://source.sakaiproject.org/svn/msgcntr/trunk\n",
      "\n",
      "http://jira.sakaiproject.org/jira/browse/SAK-12488\n",
      "\n",
      "https://collab.sakaiproject.org/portal) from the Source site.\n",
      "\n",
      "http://source.sakaiproject.org/viewsvn/?view=rev&rev=39763\n",
      "\n",
      "https://source.sakaiproject.org/svn/msgcntr/trunk\n",
      "\n",
      "http://jira.sakaiproject.org/jira/browse/SAK-12484\n",
      "\n",
      "https://collab.sakaiproject.org/portal) from the Source site.\n",
      "\n",
      "http://source.sakaiproject.org/viewsvn/?view=rev&rev=39762\n",
      "\n",
      "http://bugs.sakaiproject.org/jira/browse/SAK-12596\n",
      "\n",
      "https://collab.sakaiproject.org/portal) from the Source site.\n",
      "\n",
      "http://source.sakaiproject.org/viewsvn/?view=rev&rev=39761\n",
      "\n",
      "http://bugs.sakaiproject.org/jira/browse/SAK-12595\n",
      "\n",
      "https://collab.sakaiproject.org/portal) from the Source site.\n",
      "\n",
      "http://source.sakaiproject.org/viewsvn/?view=rev&rev=39760\n",
      "\n",
      "https://collab.sakaiproject.org/portal) from the Source site.\n",
      "\n",
      "http://source.sakaiproject.org/viewsvn/?view=rev&rev=39759\n",
      "\n",
      "http://bugs.sakaiproject.org/jira/browse/SAK-12592\n",
      "\n",
      "https://collab.sakaiproject.org/portal) from the Source site.\n",
      "\n",
      "http://source.sakaiproject.org/viewsvn/?view=rev&rev=39758\n",
      "\n",
      "http://bugs.sakaiproject.org/jira/browse/SAK-12175\n",
      "\n",
      "https://collab.sakaiproject.org/portal) from the Source site.\n",
      "\n",
      "http://source.sakaiproject.org/viewsvn/?view=rev&rev=39757\n",
      "\n",
      "https://collab.sakaiproject.org/portal) from the Source site.\n",
      "\n",
      "http://source.sakaiproject.org/viewsvn/?view=rev&rev=39756\n",
      "\n",
      "https://collab.sakaiproject.org/portal) from the Source site.\n",
      "\n",
      "http://source.sakaiproject.org/viewsvn/?view=rev&rev=39755\n",
      "\n",
      "https://collab.sakaiproject.org/portal) from the Source site.\n",
      "\n",
      "http://source.sakaiproject.org/viewsvn/?view=rev&rev=39754\n",
      "\n",
      "https://source.sakaiproject.org/svn/polls/trunk\n",
      "\n",
      "https://source.sakaiproject.org/svn/polls/trunk polls/\n",
      "\n",
      "https://collab.sakaiproject.org/portal) from the Source site.\n",
      "\n",
      "http://source.sakaiproject.org/viewsvn/?view=rev&rev=39753\n",
      "\n",
      "https://collab.sakaiproject.org/portal) from the Source site.\n",
      "\n",
      "http://source.sakaiproject.org/viewsvn/?view=rev&rev=39752\n",
      "\n",
      "https://source.sakaiproject.org/svn/podcasts/trunk\n",
      "\n",
      "https://source.sakaiproject.org/svn/podcasts/trunk podcasts/\n",
      "\n",
      "https://collab.sakaiproject.org/portal) from the Source site.\n",
      "\n",
      "http://source.sakaiproject.org/viewsvn/?view=rev&rev=39751\n",
      "\n",
      "https://source.sakaiproject.org/svn/podcasts/trunk\n",
      "\n",
      "https://source.sakaiproject.org/svn/podcasts/trunk podcasts/\n",
      "\n",
      "https://collab.sakaiproject.org/portal) from the Source site.\n",
      "\n",
      "http://source.sakaiproject.org/viewsvn/?view=rev&rev=39750\n",
      "\n",
      "https://collab.sakaiproject.org/portal) from the Source site.\n",
      "\n",
      "http://source.sakaiproject.org/viewsvn/?view=rev&rev=39749\n",
      "\n",
      "https://collab.sakaiproject.org/portal) from the Source site.\n",
      "\n",
      "http://source.sakaiproject.org/viewsvn/?view=rev&rev=39746\n",
      "\n",
      "https://collab.sakaiproject.org/portal) from the Source site.\n",
      "\n",
      "http://source.sakaiproject.org/viewsvn/?view=rev&rev=39745\n",
      "\n",
      "https://collab.sakaiproject.org/portal) from the Source site.\n",
      "\n",
      "http://source.sakaiproject.org/viewsvn/?view=rev&rev=39744\n",
      "\n",
      "https://collab.sakaiproject.org/portal) from the Source site.\n",
      "\n",
      "http://source.sakaiproject.org/viewsvn/?view=rev&rev=39743\n",
      "\n",
      "https://source.sakaiproject.org/svn/gradebook/trunk\n",
      "\n",
      "https://source.sakaiproject.org/svn/gradebook/trunk\n",
      "\n",
      "http://jira.sakaiproject.org/jira/browse/SAK-12504\n",
      "\n",
      "https://collab.sakaiproject.org/portal) from the Source site.\n",
      "\n",
      "http://source.sakaiproject.org/viewsvn/?view=rev&rev=39742\n",
      "\n",
      "https://source.sakaiproject.org/svn/gradebook/trunk\n",
      "\n",
      "https://source.sakaiproject.org/svn/gradebook/trunk\n",
      "\n",
      "http://bugs.sakaiproject.org/jira/browse/SAK-11458\n",
      "\n",
      "https://collab.sakaiproject.org/portal) from the Source site.\n",
      "\n"
     ]
    },
    {
     "data": {
      "text/plain": [
       "(75, 336)"
      ]
     },
     "execution_count": 22,
     "metadata": {},
     "output_type": "execute_result"
    }
   ],
   "source": [
    "# test your code on your function -- put the path to the file in the argument.\n",
    "\n",
    "filepath = 'mbox-short.txt'\n",
    "count_urls_emails(filepath)\n"
   ]
  },
  {
   "cell_type": "code",
   "execution_count": 17,
   "metadata": {
    "nbgrader": {
     "grade": true,
     "grade_id": "cell-dd92fffc8a5359d5",
     "locked": true,
     "points": 2,
     "schema_version": 3,
     "solution": false,
     "task": false
    }
   },
   "outputs": [
    {
     "name": "stdout",
     "output_type": "stream",
     "text": [
      "\n",
      "https://collab.sakaiproject.org/portal)\n",
      "\n",
      "https://collab.sakaiproject.org/portal)\n",
      "\n",
      "\n",
      "https://collab.sakaiproject.org/portal)\n",
      "\n",
      "https://collab.sakaiproject.org/portal)\n",
      "\n",
      "https://collab.sakaiproject.org/portal)\n",
      "\n",
      "https://collab.sakaiproject.org/portal)\n",
      "\n",
      "\n",
      "http://jira.sakaiproject.org/jira/browse/SAK-12488\n",
      "https://collab.sakaiproject.org/portal)\n",
      "\n",
      "\n",
      "http://jira.sakaiproject.org/jira/browse/SAK-12484\n",
      "https://collab.sakaiproject.org/portal)\n",
      "\n",
      "http://bugs.sakaiproject.org/jira/browse/SAK-12596\n",
      "https://collab.sakaiproject.org/portal)\n",
      "\n",
      "http://bugs.sakaiproject.org/jira/browse/SAK-12595\n",
      "https://collab.sakaiproject.org/portal)\n",
      "\n",
      "https://collab.sakaiproject.org/portal)\n",
      "\n",
      "http://bugs.sakaiproject.org/jira/browse/SAK-12592\n",
      "https://collab.sakaiproject.org/portal)\n",
      "\n",
      "http://bugs.sakaiproject.org/jira/browse/SAK-12175\n",
      "https://collab.sakaiproject.org/portal)\n",
      "\n",
      "https://collab.sakaiproject.org/portal)\n",
      "\n",
      "https://collab.sakaiproject.org/portal)\n",
      "\n",
      "https://collab.sakaiproject.org/portal)\n",
      "\n",
      "\n",
      "https://source.sakaiproject.org/svn/polls/trunk\n",
      "https://collab.sakaiproject.org/portal)\n",
      "\n",
      "https://collab.sakaiproject.org/portal)\n",
      "\n",
      "\n",
      "https://source.sakaiproject.org/svn/podcasts/trunk\n",
      "https://collab.sakaiproject.org/portal)\n",
      "\n",
      "\n",
      "https://source.sakaiproject.org/svn/podcasts/trunk\n",
      "https://collab.sakaiproject.org/portal)\n",
      "\n",
      "https://collab.sakaiproject.org/portal)\n",
      "\n",
      "https://collab.sakaiproject.org/portal)\n",
      "\n",
      "https://collab.sakaiproject.org/portal)\n",
      "\n",
      "https://collab.sakaiproject.org/portal)\n",
      "\n",
      "https://collab.sakaiproject.org/portal)\n",
      "\n",
      "\n",
      "\n",
      "http://jira.sakaiproject.org/jira/browse/SAK-12504\n",
      "https://collab.sakaiproject.org/portal)\n",
      "\n",
      "\n",
      "\n",
      "http://bugs.sakaiproject.org/jira/browse/SAK-11458\n",
      "https://collab.sakaiproject.org/portal)\n"
     ]
    }
   ],
   "source": [
    "# Tests for your code. Manually grading the url printing.  Testing the output count is correct.\n",
    "\n",
    "assert count_urls_emails('data-files/mbox-short.txt') == (75,336)\n"
   ]
  },
  {
   "cell_type": "code",
   "execution_count": 23,
   "metadata": {},
   "outputs": [
    {
     "name": "stdout",
     "output_type": "stream",
     "text": [
      "[1, 2, 3, 4, 5, 6]\n"
     ]
    }
   ],
   "source": [
    "a = [1,2,3]\n",
    "b = [4,5,6]\n",
    "print(a+b)"
   ]
  },
  {
   "cell_type": "code",
   "execution_count": 14,
   "metadata": {},
   "outputs": [],
   "source": [
    "a.append(b)"
   ]
  },
  {
   "cell_type": "code",
   "execution_count": 28,
   "metadata": {},
   "outputs": [
    {
     "name": "stdout",
     "output_type": "stream",
     "text": [
      "[4, 5, 6]\n"
     ]
    }
   ],
   "source": [
    "print(b)"
   ]
  },
  {
   "cell_type": "code",
   "execution_count": 29,
   "metadata": {},
   "outputs": [
    {
     "name": "stdout",
     "output_type": "stream",
     "text": [
      "None\n"
     ]
    }
   ],
   "source": [
    "print(b.extend(a))"
   ]
  },
  {
   "cell_type": "code",
   "execution_count": 30,
   "metadata": {},
   "outputs": [
    {
     "name": "stdout",
     "output_type": "stream",
     "text": [
      "[4, 5, 6, 1, 2, 3]\n"
     ]
    }
   ],
   "source": [
    "print(b)"
   ]
  },
  {
   "cell_type": "code",
   "execution_count": 37,
   "metadata": {},
   "outputs": [
    {
     "name": "stdout",
     "output_type": "stream",
     "text": [
      "6\n"
     ]
    }
   ],
   "source": [
    "c = b.pop(1)\n",
    "print(c)"
   ]
  },
  {
   "cell_type": "code",
   "execution_count": null,
   "metadata": {},
   "outputs": [],
   "source": []
  },
  {
   "cell_type": "code",
   "execution_count": 38,
   "metadata": {},
   "outputs": [
    {
     "name": "stdout",
     "output_type": "stream",
     "text": [
      "[4, 1, 1, 2, 3]\n"
     ]
    }
   ],
   "source": [
    "print(b)"
   ]
  },
  {
   "cell_type": "code",
   "execution_count": 43,
   "metadata": {},
   "outputs": [],
   "source": [
    "b.reverse()"
   ]
  },
  {
   "cell_type": "code",
   "execution_count": 45,
   "metadata": {},
   "outputs": [],
   "source": [
    "b.sort()"
   ]
  },
  {
   "cell_type": "code",
   "execution_count": 47,
   "metadata": {},
   "outputs": [
    {
     "name": "stdout",
     "output_type": "stream",
     "text": [
      "3\n",
      "6\n",
      "['f', 'e', 'c', 'b', 'a']\n"
     ]
    }
   ],
   "source": [
    "a = [\"a\",\"b\",\"c\"]\n",
    "b = ['d','e','f']\n",
    "a.extend(b)\n",
    "print(a.index(\"d\"))\n",
    "print(len(a))\n",
    "a.pop(3)\n",
    "a.sort()\n",
    "a.reverse()\n",
    "print(a)"
   ]
  },
  {
   "cell_type": "code",
   "execution_count": 41,
   "metadata": {},
   "outputs": [
    {
     "name": "stdout",
     "output_type": "stream",
     "text": [
      "[2, 5, 8]\n"
     ]
    }
   ],
   "source": [
    "a = [1,2,3,4,5,6,7,8]\n",
    "print(a[1::3])"
   ]
  },
  {
   "cell_type": "code",
   "execution_count": 42,
   "metadata": {},
   "outputs": [],
   "source": [
    "a = \"this is a test\"\n",
    "b = [i for i in a]"
   ]
  },
  {
   "cell_type": "code",
   "execution_count": 43,
   "metadata": {},
   "outputs": [
    {
     "name": "stdout",
     "output_type": "stream",
     "text": [
      "['t', 'h', 'i', 's', ' ', 'i', 's', ' ', 'a', ' ', 't', 'e', 's', 't']\n"
     ]
    }
   ],
   "source": [
    "print(b)"
   ]
  },
  {
   "cell_type": "code",
   "execution_count": 46,
   "metadata": {},
   "outputs": [
    {
     "data": {
      "text/plain": [
       "''"
      ]
     },
     "execution_count": 46,
     "metadata": {},
     "output_type": "execute_result"
    }
   ],
   "source": [
    "a = \"   \"\n",
    "a.strip()"
   ]
  },
  {
   "cell_type": "markdown",
   "metadata": {},
   "source": [
    "---"
   ]
  },
  {
   "cell_type": "code",
   "execution_count": 51,
   "metadata": {},
   "outputs": [],
   "source": [
    "a = \"this is a text\"\n",
    "b = a.split()"
   ]
  },
  {
   "cell_type": "code",
   "execution_count": 54,
   "metadata": {},
   "outputs": [
    {
     "name": "stdout",
     "output_type": "stream",
     "text": [
      "['this', 'is', 'a', 'text']\n"
     ]
    }
   ],
   "source": [
    "print(b)"
   ]
  },
  {
   "cell_type": "code",
   "execution_count": 57,
   "metadata": {},
   "outputs": [
    {
     "data": {
      "text/plain": [
       "'this is a text'"
      ]
     },
     "execution_count": 57,
     "metadata": {},
     "output_type": "execute_result"
    }
   ],
   "source": [
    "\" \".join(b)"
   ]
  },
  {
   "cell_type": "code",
   "execution_count": 58,
   "metadata": {},
   "outputs": [
    {
     "name": "stdout",
     "output_type": "stream",
     "text": [
      "[4, 5, 6]\n"
     ]
    }
   ],
   "source": [
    "a = [1,2,3]\n",
    "b = [i+3 for i in a]\n",
    "print(b)"
   ]
  },
  {
   "cell_type": "code",
   "execution_count": null,
   "metadata": {},
   "outputs": [],
   "source": []
  }
 ],
 "metadata": {
  "celltoolbar": "Create Assignment",
  "kernelspec": {
   "display_name": "Python 3 (ipykernel)",
   "language": "python",
   "name": "python3"
  },
  "language_info": {
   "codemirror_mode": {
    "name": "ipython",
    "version": 3
   },
   "file_extension": ".py",
   "mimetype": "text/x-python",
   "name": "python",
   "nbconvert_exporter": "python",
   "pygments_lexer": "ipython3",
   "version": "3.9.13"
  }
 },
 "nbformat": 4,
 "nbformat_minor": 4
}
