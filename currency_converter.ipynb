{
 "cells": [
  {
   "cell_type": "markdown",
   "metadata": {
    "nbgrader": {
     "grade": false,
     "grade_id": "cell-22ca32cbc7ee994b",
     "locked": true,
     "schema_version": 3,
     "solution": false,
     "task": false
    }
   },
   "source": [
    "### Creation of a currency converter ###"
   ]
  },
  {
   "cell_type": "markdown",
   "metadata": {
    "nbgrader": {
     "grade": false,
     "grade_id": "cell-95bf513558a408db",
     "locked": true,
     "schema_version": 3,
     "solution": false,
     "task": false
    }
   },
   "source": [
    "Consider money you need to convert into a different currency. \n",
    "We will ask you to code a converter by asking the user to give an input value, and indicate the conversion he or she wants to make (from the initial currency to the final one).\n",
    "\n",
    "The initial and final currencies will also be inputs from the user. \n"
   ]
  },
  {
   "cell_type": "markdown",
   "metadata": {
    "nbgrader": {
     "grade": false,
     "grade_id": "cell-4e54a48d824ae868",
     "locked": true,
     "schema_version": 3,
     "solution": false,
     "task": false
    }
   },
   "source": [
    "#### First step####"
   ]
  },
  {
   "cell_type": "markdown",
   "metadata": {
    "nbgrader": {
     "grade": false,
     "grade_id": "cell-a8a775828be17d2c",
     "locked": true,
     "schema_version": 3,
     "solution": false,
     "task": false
    }
   },
   "source": [
    "Let's consider you as an user want to convert money from EUR to YEN (Japanese currency).\n",
    "Please take the currency value to be 1 EUR = 8.09647 YEN (on the 13/09/2020 - 1:00 pm / CET+2)\n",
    "\n",
    "Write a code which: \n",
    "- Asks from the user an input considered as value money\n",
    "This one will be considered to be in EUR \n",
    "\n",
    "- Then calculates the value in YEN \n",
    "- And displays and returns the result \n",
    "Here use both \"print\" and \"return\" functions\n",
    "\n",
    "**Do not forgot to include tests / error messages / ...\n",
    "in order to guide the user when using your program !**\n",
    "\n",
    "All your error messages must start with \"Error: \" \n"
   ]
  },
  {
   "cell_type": "code",
   "execution_count": 1,
   "metadata": {
    "nbgrader": {
     "grade": true,
     "grade_id": "cell-1b2e96b62467116f",
     "locked": false,
     "points": 3,
     "schema_version": 3,
     "solution": true,
     "task": false
    }
   },
   "outputs": [],
   "source": [
    "# Remember you can comment your code using #\n",
    "\n",
    "def currency_converter():\n",
    "    ''' Ask for the user input with a prompt and compute the currency conversion from EUR to YEN. Print the value\n",
    "    and return it from the function as well.'''\n",
    "    \n",
    "    prompt = 'Enter a value in EUR to be converted to YEN:'\n",
    "    error_message = 'Error: your input should be a positive number'\n",
    "    \n",
    "    ### BEGIN SOLUTION\n",
    "    value = input(prompt)\n",
    "    try :\n",
    "        value=float(value) \n",
    "    except:\n",
    "        print(error_message)\n",
    "        return\n",
    "    \n",
    "    if value >= 0 :\n",
    "        conversion = value * 8.09647\n",
    "    else: \n",
    "        print(error_message)\n",
    "        return\n",
    "    ### END SOLUTION\n",
    "\n",
    "    print(\"Your input is equal to {output} YEN\".format(output=conversion))\n",
    "    return conversion\n"
   ]
  },
  {
   "cell_type": "markdown",
   "metadata": {
    "nbgrader": {
     "grade": false,
     "grade_id": "cell-52a9407065bda538",
     "locked": true,
     "schema_version": 3,
     "solution": false,
     "task": false
    }
   },
   "source": [
    "To run your code in a cell, you should add a new cell and type:\n",
    "\n",
    "```currency_converter()```\n",
    "\n",
    "and execute that cell.  Provide the input and show it working below:"
   ]
  },
  {
   "cell_type": "code",
   "execution_count": 4,
   "metadata": {},
   "outputs": [
    {
     "name": "stdout",
     "output_type": "stream",
     "text": [
      "Enter a value in EUR to be converted to YEN:-170\n",
      "Error: your input should be a positive number\n"
     ]
    }
   ],
   "source": [
    "# run this to show it running!\n",
    "currency_converter()\n"
   ]
  },
  {
   "cell_type": "markdown",
   "metadata": {},
   "source": [
    "The following code checks that your function performs correctly.  It is only verifying the return value is the correct number.  Testing functions for their return values is a standard practice in *Test-Driven Development*.  Test cases help you figure out where your code has errors, if you have lots of functions calling each other."
   ]
  },
  {
   "cell_type": "code",
   "execution_count": 5,
   "metadata": {
    "nbgrader": {
     "grade": true,
     "grade_id": "test_converter1",
     "locked": true,
     "points": 1,
     "schema_version": 3,
     "solution": false,
     "task": false
    }
   },
   "outputs": [
    {
     "name": "stdout",
     "output_type": "stream",
     "text": [
      "Your input is equal to 36.434115 YEN\n",
      "Your input is equal to 1619.294 YEN\n"
     ]
    }
   ],
   "source": [
    "# This is a test of your code. Don't change this.\n",
    "\n",
    "import mock\n",
    "from io import StringIO\n",
    "import sys\n",
    "\n",
    "def test_converter():\n",
    "    with mock.patch('builtins.input', return_value='4.5'):\n",
    "        assert currency_converter() == 36.434115\n",
    "    with mock.patch('builtins.input', return_value='200'):\n",
    "        assert currency_converter() == 1619.294\n",
    "            \n",
    "test_converter()"
   ]
  },
  {
   "cell_type": "code",
   "execution_count": 6,
   "metadata": {
    "nbgrader": {
     "grade": true,
     "grade_id": "test_converter2",
     "locked": true,
     "points": 2,
     "schema_version": 3,
     "solution": false,
     "task": false
    }
   },
   "outputs": [],
   "source": [
    "# testing more....\n",
    "\n",
    "with mock.patch('builtins.input', return_value='cat'):\n",
    "    with mock.patch('sys.stdout', new_callable=StringIO):\n",
    "        assert currency_converter() is None\n",
    "        assert sys.stdout.getvalue() == \"Error: your input should be a positive number\\n\""
   ]
  },
  {
   "cell_type": "code",
   "execution_count": 7,
   "metadata": {
    "nbgrader": {
     "grade": true,
     "grade_id": "cell-c92e17942d63eb09",
     "locked": true,
     "points": 1,
     "schema_version": 3,
     "solution": false,
     "task": false
    }
   },
   "outputs": [],
   "source": [
    "# testing even more....\n",
    "\n",
    "with mock.patch('builtins.input', return_value='-3'):\n",
    "    with mock.patch('sys.stdout', new_callable=StringIO):\n",
    "        assert currency_converter() is None\n",
    "        assert sys.stdout.getvalue() == \"Error: your input should be a positive number\\n\""
   ]
  },
  {
   "cell_type": "markdown",
   "metadata": {
    "nbgrader": {
     "grade": false,
     "grade_id": "cell-383989c1b0cad848",
     "locked": true,
     "schema_version": 3,
     "solution": false,
     "task": false
    }
   },
   "source": [
    "#### Second step####"
   ]
  },
  {
   "cell_type": "markdown",
   "metadata": {
    "nbgrader": {
     "grade": false,
     "grade_id": "cell-53b7b15ab00e6539",
     "locked": true,
     "schema_version": 3,
     "solution": false,
     "task": false
    }
   },
   "source": [
    "Let's continue on the same topic.\n",
    "Now consider multiple options of conversion from one currency to another one. \n",
    "\n",
    "This means by using what you've done preciously, add 1 input from the user to be: \n",
    "- the final currency for which you need to know the value\n",
    "The initial currency of the value given will be stuck to EUR. \n",
    "\n",
    "For that purpose, you need to : \n",
    "- Store inputs into variables \n",
    "- Use inputs as elements for conditionals \n",
    "- Calculates conversion depending on the inputs\n",
    "- Only use one output variable\n",
    "\n",
    "For this exercise, you will consider the following currencies: YEN / USD / CAD / GBP / INR\n",
    "The conversion rates are: \n",
    "- 1 EUR = 1.18468 USD\n",
    "- 1 EUR = 0.925698 GBP \n",
    "- 1 EUR = 87.0200 INR\n",
    "- 1 EUR = 1.56086 CAD\n",
    "\n",
    "**When asking for inputs from the user, please stick to upper letters**\n",
    "Please consider here inputs as arguments to the function currency_converter2()"
   ]
  },
  {
   "cell_type": "code",
   "execution_count": 1,
   "metadata": {
    "nbgrader": {
     "grade": true,
     "grade_id": "cell-acd5cd5cae046cf1",
     "locked": false,
     "points": 2,
     "schema_version": 3,
     "solution": true,
     "task": false
    }
   },
   "outputs": [],
   "source": [
    "# Remember you can comment your code using #\n",
    "\n",
    "def currency_converter2(value,currency):\n",
    "    ''' Ask for the user input using the arguments of the function and compute the currency conversion from EUR to YEN. Print the value\n",
    "    and return it from the function as well.'''\n",
    "\n",
    "    error_message = 'Error: your input should be a positive number'\n",
    "    error_message2 = 'Error: select one of the given currencies (YEN / USD / CAD / GBP / INR)'\n",
    "\n",
    "    ### BEGIN SOLUTION\n",
    "    try :\n",
    "        value=float(value) \n",
    "    except:\n",
    "        print(error_message)\n",
    "        return\n",
    "    \n",
    "    if value >= 0 :\n",
    "        if currency == 'YEN':\n",
    "            conversion = value * 8.09647\n",
    "        elif currency == 'USD':\n",
    "            conversion = value * 1.18468\n",
    "        elif currency == 'CAD': \n",
    "            conversion = value * 1.56086\n",
    "        elif currency == 'GBP':\n",
    "            conversion = value * 0.925698\n",
    "        elif currency == 'INR': \n",
    "            conversion = value * 87.0200\n",
    "        else : \n",
    "            print(error_message2)\n",
    "            return            \n",
    "    else: \n",
    "        print(error_message)\n",
    "        return\n",
    "    ### END SOLUTION\n",
    "\n",
    "    print(\"Your input is equal to {output} \".format(output=conversion)+currency)\n",
    "    print('Your input is equal to',conversion,currency)\n",
    "    return conversion\n"
   ]
  },
  {
   "cell_type": "code",
   "execution_count": 4,
   "metadata": {
    "nbgrader": {
     "grade": false,
     "grade_id": "cell-42ea983fbc291f5c",
     "locked": true,
     "schema_version": 3,
     "solution": false,
     "task": false
    }
   },
   "outputs": [
    {
     "name": "stdout",
     "output_type": "stream",
     "text": [
      "Your input is equal to 16.19294 YEN\n",
      "Your input is equal to 16.19294 YEN\n"
     ]
    },
    {
     "data": {
      "text/plain": [
       "16.19294"
      ]
     },
     "execution_count": 4,
     "metadata": {},
     "output_type": "execute_result"
    }
   ],
   "source": [
    "currency_converter2(2,'YEN')"
   ]
  },
  {
   "cell_type": "code",
   "execution_count": 12,
   "metadata": {
    "nbgrader": {
     "grade": false,
     "grade_id": "cell-486bfab8a6c7eea7",
     "locked": false,
     "schema_version": 3,
     "solution": true,
     "task": false
    }
   },
   "outputs": [
    {
     "name": "stdout",
     "output_type": "stream",
     "text": [
      "Your input is equal to 11.108376 GBP\n",
      "Your input is equal to 11.108376 GBP\n"
     ]
    },
    {
     "data": {
      "text/plain": [
       "11.108376"
      ]
     },
     "execution_count": 12,
     "metadata": {},
     "output_type": "execute_result"
    }
   ],
   "source": [
    "input1 = 12\n",
    "input2 = 'GBP'\n",
    "currency_converter2(input1, input2)"
   ]
  },
  {
   "cell_type": "code",
   "execution_count": 13,
   "metadata": {
    "nbgrader": {
     "grade": false,
     "grade_id": "cell-160387a81d89364a",
     "locked": false,
     "schema_version": 3,
     "solution": true,
     "task": false
    }
   },
   "outputs": [
    {
     "name": "stdout",
     "output_type": "stream",
     "text": [
      "Your input is equal to 2649.759 INR\n",
      "Your input is equal to 2649.759 INR\n"
     ]
    },
    {
     "data": {
      "text/plain": [
       "2649.759"
      ]
     },
     "execution_count": 13,
     "metadata": {},
     "output_type": "execute_result"
    }
   ],
   "source": [
    "# run this to show if it runs correctly!\n",
    "# Give here content for the 2 variables value and currency\n",
    "input1 = 30.45\n",
    "input2 = 'INR'\n",
    "currency_converter2(input1, input2)\n"
   ]
  },
  {
   "cell_type": "code",
   "execution_count": 14,
   "metadata": {
    "nbgrader": {
     "grade": true,
     "grade_id": "test1_currency_converter2",
     "locked": true,
     "points": 1,
     "schema_version": 3,
     "solution": false,
     "task": false
    }
   },
   "outputs": [
    {
     "name": "stdout",
     "output_type": "stream",
     "text": [
      "Your input is equal to 2.777094 GBP\n",
      "Your input is equal to 2.777094 GBP\n",
      "Your input is equal to 236.93599999999998 USD\n",
      "Your input is equal to 236.93599999999998 USD\n"
     ]
    }
   ],
   "source": [
    "# This is a test of your code. Don't change this.\n",
    "\n",
    "import mock\n",
    "from io import StringIO\n",
    "import sys\n",
    "\n",
    "assert currency_converter2(3,'GBP') == 2.777094\n",
    "assert currency_converter2(200,'USD') == 236.93599999999998"
   ]
  },
  {
   "cell_type": "code",
   "execution_count": 15,
   "metadata": {
    "nbgrader": {
     "grade": true,
     "grade_id": "test2_currency_converter2",
     "locked": true,
     "points": 2,
     "schema_version": 3,
     "solution": false,
     "task": false
    }
   },
   "outputs": [
    {
     "name": "stdout",
     "output_type": "stream",
     "text": [
      "Error: your input should be a positive number\n",
      "Error: select one of the given currencies (YEN / USD / CAD / GBP / INR)\n"
     ]
    }
   ],
   "source": [
    "# Some more tests\n",
    "assert currency_converter2('cat','GBP') == None\n",
    "assert currency_converter2(3,'Other') == None\n"
   ]
  },
  {
   "cell_type": "code",
   "execution_count": 16,
   "metadata": {
    "nbgrader": {
     "grade": true,
     "grade_id": "test3_currency_converter2",
     "locked": true,
     "points": 1,
     "schema_version": 3,
     "solution": false,
     "task": false
    }
   },
   "outputs": [
    {
     "name": "stdout",
     "output_type": "stream",
     "text": [
      "Your input is equal to 0.0 GBP\n",
      "Your input is equal to 0.0 GBP\n"
     ]
    }
   ],
   "source": [
    "assert currency_converter2(0,'GBP') == 0\n"
   ]
  },
  {
   "cell_type": "markdown",
   "metadata": {
    "nbgrader": {
     "grade": false,
     "grade_id": "cell-c48d0d4f39e3ad9d",
     "locked": true,
     "schema_version": 3,
     "solution": false,
     "task": false
    }
   },
   "source": [
    "#### Third step####"
   ]
  },
  {
   "cell_type": "markdown",
   "metadata": {
    "nbgrader": {
     "grade": false,
     "grade_id": "cell-9def28297e91d436",
     "locked": true,
     "schema_version": 3,
     "solution": false,
     "task": false
    }
   },
   "source": [
    "During the last step, you will extend once again the program you've beeing programming. \n",
    "\n",
    "**Now consider not only one freezed input currency but multiple. \n",
    "This means the user need to specify in which currency the input is. \n",
    "He or she still has also to specify the output currency.** \n",
    "\n",
    "So here you need to: \n",
    "- Add one more input from the user specifying the input or initial currency.\n",
    "\n",
    "Once again store this input into a variable and use it for calculating the output value. \n",
    "\n",
    "**Take time before coding to consider all the options of conversion, from one currency to another one. And try a way to calculate each conversion even if it is not given here in the instructions.** \n",
    "\n",
    "Concerning the conversion rates, use the ones indicate in 2nd step. \n",
    "\n"
   ]
  },
  {
   "cell_type": "code",
   "execution_count": 12,
   "metadata": {
    "nbgrader": {
     "grade": true,
     "grade_id": "cell-e6ae9b5ba8031bea",
     "locked": false,
     "points": 3,
     "schema_version": 3,
     "solution": true,
     "task": false
    }
   },
   "outputs": [],
   "source": [
    "# Remember you can comment your code using #\n",
    "# You can see that here we switch from input asking to arguments giving directly to the function\n",
    "\n",
    "def currency_converter3(value, currency1, currency2):\n",
    "    ''' From a value given by the user the function computes the currency conversion from one currency to another one. Print the value\n",
    "    and return it from the function as well.'''\n",
    "    \n",
    "    error_message = 'Error: your input should be a positive number'\n",
    "    error_message2 = 'Error: select one of the given currency (EUR,YEN,USD,CAD,INR,GBP)'\n",
    "\n",
    "    ### BEGIN SOLUTION\n",
    "    try :\n",
    "        value=float(value)\n",
    "    except:\n",
    "        print(error_message)\n",
    "        return\n",
    "    \n",
    "    EURYEN = 8.09647\n",
    "    EURUSD = 1.18468\n",
    "    EURCAD = 1.56086\n",
    "    EURGBP = 0.925698\n",
    "    EURINR = 87.0200\n",
    "    \n",
    "    if value >= 0 :\n",
    "        if currency1 in ('EUR','YEN','USD','CAD','INR','GBP') and currency2 in ('EUR','YEN','USD','CAD','INR','GBP'):    \n",
    "            if currency1 == 'EUR':\n",
    "                if currency2 == 'YEN':\n",
    "                    conversion = value * EURYEN\n",
    "                elif currency2 == 'USD':\n",
    "                    conversion = value * EURUSD\n",
    "                elif currency2 == 'CAD':\n",
    "                    conversion = value * EURCAD\n",
    "                elif currency2 == 'GBP':\n",
    "                    conversion = value * EURGBP                    \n",
    "                elif currency2 == 'INR':\n",
    "                    conversion = value * EURINR\n",
    "                elif currency2 == 'EUR':\n",
    "                    conversion = value \n",
    "            if currency1 == 'YEN':\n",
    "                if currency2 == 'EUR':\n",
    "                    conversion = value * 1/EURYEN\n",
    "                elif currency2 == 'USD':\n",
    "                    conversion = value * EURUSD/EURYEN\n",
    "                elif currency2 == 'CAD':\n",
    "                    conversion = value * EURCAD/EURYEN\n",
    "                elif currency2 == 'GBP':\n",
    "                    conversion = value * EURGBP/EURYEN\n",
    "                elif currency2 == 'INR':\n",
    "                    conversion = value * EURINR/EURYEN\n",
    "            if currency1 == 'USD':\n",
    "                if currency2 == 'YEN':\n",
    "                    conversion = value * EURYEN/EURUSD\n",
    "                elif currency2 == 'EUR':\n",
    "                    conversion = value * 1/(EURUSD)\n",
    "                elif currency2 == 'CAD':\n",
    "                    conversion = value * EURCAD/EURUSD\n",
    "                elif currency2 == 'GBP':\n",
    "                    conversion = value * EURGBP/EURUSD\n",
    "                elif currency2 == 'INR':\n",
    "                    conversion = value * EURINR/EURUSD\n",
    "            if currency1 == 'CAD':\n",
    "                if currency2 == 'YEN':\n",
    "                    conversion = value * EURYEN/EURCAD\n",
    "                elif currency2 == 'EUR':\n",
    "                    conversion = value * 1/(EURCAD)\n",
    "                elif currency2 == 'USD':\n",
    "                    conversion = value * EURUSD/EURCAD\n",
    "                elif currency2 == 'GBP':\n",
    "                    conversion = value * EURGBP/EURCAD\n",
    "                elif currency2 == 'INR':\n",
    "                    conversion = value * EURINR/EURCAD\n",
    "            if currency1 == 'GBP':\n",
    "                if currency2 == 'YEN':\n",
    "                    conversion = value * EURYEN/EURGBP\n",
    "                elif currency2 == 'EUR':\n",
    "                    conversion = value * 1/(EURGBP)\n",
    "                elif currency2 == 'USD':\n",
    "                    conversion = value * EURCAD/EURYEN\n",
    "                elif currency2 == 'CAD':\n",
    "                    conversion = value * EURCAD/EURYEN\n",
    "                elif currency2 == 'INR':\n",
    "                    conversion = value * EURINR/EURYEN\n",
    "            if currency1 == 'INR':\n",
    "                if currency2 == 'YEN':\n",
    "                    conversion = value * EURYEN/EURINR\n",
    "                elif currency2 == 'GBP':\n",
    "                    conversion = value * EURGBP/EURINR\n",
    "                elif currency2 == 'USD':\n",
    "                    conversion = value * EURUSD/EURINR\n",
    "                elif currency2 == 'CAD':\n",
    "                    conversion = value * EURCAD/EURINR\n",
    "                elif currency2 == 'EUR':\n",
    "                    conversion = value * 1/(EURINR)\n",
    "        else : \n",
    "            print(error_message2)\n",
    "            return            \n",
    "    else: \n",
    "        print(error_message)\n",
    "        return\n",
    "    ### END SOLUTION\n",
    "\n",
    "    print(conversion)\n",
    "    return conversion\n"
   ]
  },
  {
   "cell_type": "code",
   "execution_count": null,
   "metadata": {},
   "outputs": [],
   "source": []
  },
  {
   "cell_type": "code",
   "execution_count": 13,
   "metadata": {
    "nbgrader": {
     "grade": true,
     "grade_id": "cell-c788fe9305e7f4f7",
     "locked": true,
     "points": 2,
     "schema_version": 3,
     "solution": false,
     "task": false
    }
   },
   "outputs": [
    {
     "name": "stdout",
     "output_type": "stream",
     "text": [
      "2.722776373247529\n",
      "17.792076163140834\n"
     ]
    }
   ],
   "source": [
    "# This is a test of your code. Don't change this.\n",
    "\n",
    "import mock\n",
    "from io import StringIO\n",
    "import sys\n",
    "\n",
    "assert currency_converter3(200,'INR','USD') == 2.722776373247529\n",
    "assert currency_converter3(30,'CAD','GBP') == 17.792076163140834\n"
   ]
  },
  {
   "cell_type": "code",
   "execution_count": 14,
   "metadata": {
    "nbgrader": {
     "grade": true,
     "grade_id": "cell-16120a64ef493730",
     "locked": true,
     "points": 2,
     "schema_version": 3,
     "solution": false,
     "task": false
    }
   },
   "outputs": [
    {
     "name": "stdout",
     "output_type": "stream",
     "text": [
      "Error: select one of the given currency (EUR,YEN,USD,CAD,INR,GBP)\n",
      "Error: select one of the given currency (EUR,YEN,USD,CAD,INR,GBP)\n"
     ]
    }
   ],
   "source": [
    "# Some more tests\n",
    "assert currency_converter3(3,'cat','GBP') == None\n",
    "assert currency_converter3(3,'EUR','Other') == None\n"
   ]
  }
 ],
 "metadata": {
  "celltoolbar": "Create Assignment",
  "kernelspec": {
   "display_name": "Python 3",
   "language": "python",
   "name": "python3"
  },
  "language_info": {
   "codemirror_mode": {
    "name": "ipython",
    "version": 3
   },
   "file_extension": ".py",
   "mimetype": "text/x-python",
   "name": "python",
   "nbconvert_exporter": "python",
   "pygments_lexer": "ipython3",
   "version": "3.8.3"
  }
 },
 "nbformat": 4,
 "nbformat_minor": 2
}
